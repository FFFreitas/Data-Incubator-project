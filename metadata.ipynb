{
 "cells": [
  {
   "cell_type": "code",
   "execution_count": null,
   "metadata": {},
   "outputs": [],
   "source": [
    "import numpy as np\n",
    "import pandas as pd\n",
    "from matplotlib_chord import *\n",
    "import re"
   ]
  },
  {
   "cell_type": "code",
   "execution_count": null,
   "metadata": {},
   "outputs": [],
   "source": [
    "colName = ['ImageIndex', 'FindingLabels', 'Followup', 'PatientID', 'PatientAge', 'PatientGender', 'ViewPosition',\n",
    "           'OriginalImage', 'Height', 'OriginalImagePixelSpacing', 'y', 'temp']\n",
    "data = pd.read_csv('Data_Entry_2017.csv', names=colName)"
   ]
  },
  {
   "cell_type": "code",
   "execution_count": null,
   "metadata": {},
   "outputs": [],
   "source": [
    "data.head()"
   ]
  },
  {
   "cell_type": "code",
   "execution_count": null,
   "metadata": {},
   "outputs": [],
   "source": [
    "findingLabels = data.FindingLabels.tolist()[1:]"
   ]
  },
  {
   "cell_type": "code",
   "execution_count": null,
   "metadata": {},
   "outputs": [],
   "source": [
    "Labels = set(\n",
    "    ['Atelectasis', 'Consolidation', 'Edema', 'Pleural_Thickening', 'Infiltration', 'Mass', 'Nodule', 'Pneumonia',\n",
    "     'Pneumothorax', 'Cardiomegaly', 'Effusion', 'Hernia',\n",
    "     'Emphysema', 'Fibrosis', 'No Finding'])\n"
   ]
  },
  {
   "cell_type": "code",
   "execution_count": null,
   "metadata": {},
   "outputs": [],
   "source": [
    "def getListLabels():\n",
    "\n",
    "    listLabels = list(Labels)\n",
    "    tempLabel = listLabels[13]\n",
    "    listLabels.remove(tempLabel)\n",
    "    listLabels.append(tempLabel) \n",
    "    return listLabels\n"
   ]
  },
  {
   "cell_type": "code",
   "execution_count": null,
   "metadata": {},
   "outputs": [],
   "source": [
    "listLabels = getListLabels()"
   ]
  },
  {
   "cell_type": "code",
   "execution_count": null,
   "metadata": {},
   "outputs": [],
   "source": [
    "listLabels"
   ]
  },
  {
   "cell_type": "code",
   "execution_count": null,
   "metadata": {},
   "outputs": [],
   "source": [
    "oneHotLabels = np.zeros((len(findingLabels), 15))"
   ]
  },
  {
   "cell_type": "code",
   "execution_count": null,
   "metadata": {},
   "outputs": [],
   "source": [
    "def checkLabel(text, labels):\n",
    "    findLabels = re.compile(r'([A-Z]\\w*(?:\\s[A-Z]\\w*)?)')\n",
    "    foundLabel = []\n",
    "    for possible_labels in set(findLabels.findall(text)):\n",
    "        if possible_labels in labels:\n",
    "            foundLabel.append(possible_labels)\n",
    "    return foundLabel"
   ]
  },
  {
   "cell_type": "code",
   "execution_count": null,
   "metadata": {},
   "outputs": [],
   "source": [
    "n = 0\n",
    "for i in range(len(findingLabels)):\n",
    "    returnPathology = checkLabel(findingLabels[i], Labels)\n",
    "\n",
    "    if len(returnPathology) < 3 and returnPathology[0] != 'No Finding':\n",
    "        for m in range(len(returnPathology)):\n",
    "            oneHotLabels[n, listLabels.index(returnPathology[m])] = 1\n",
    "\n",
    "\n",
    "        n += 1\n",
    "    thresholdLabels = oneHotLabels[:(n-1)]\n"
   ]
  },
  {
   "cell_type": "code",
   "execution_count": null,
   "metadata": {},
   "outputs": [],
   "source": [
    "oneHotLabels[0][14]"
   ]
  },
  {
   "cell_type": "code",
   "execution_count": null,
   "metadata": {},
   "outputs": [],
   "source": [
    "n=0\n",
    "for i in range(len(findingLabels)):\n",
    "    returnPathology = checkLabel(findingLabels[i], Labels)\n",
    "\n",
    "    if len(returnPathology) < 3 and returnPathology[0] != 'No Finding':\n",
    "        for m in range(len(returnPathology)):\n",
    "            print(listLabels.index(returnPathology[m]),returnPathology[m],n)\n",
    "            \n",
    "        n+=1"
   ]
  },
  {
   "cell_type": "code",
   "execution_count": null,
   "metadata": {},
   "outputs": [],
   "source": []
  }
 ],
 "metadata": {
  "kernelspec": {
   "display_name": "Python 3",
   "language": "python",
   "name": "python3"
  },
  "language_info": {
   "codemirror_mode": {
    "name": "ipython",
    "version": 3
   },
   "file_extension": ".py",
   "mimetype": "text/x-python",
   "name": "python",
   "nbconvert_exporter": "python",
   "pygments_lexer": "ipython3",
   "version": "3.7.1"
  }
 },
 "nbformat": 4,
 "nbformat_minor": 2
}
